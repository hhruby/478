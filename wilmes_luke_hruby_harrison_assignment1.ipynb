{
 "cells": [
  {
   "cell_type": "code",
   "execution_count": 4,
   "metadata": {},
   "outputs": [],
   "source": [
    "import numpy as np\n",
    "\n",
    "def euclidean_distance(x, y):\n",
    "    return np.linalg.norm((x-y), ord = 2)\n",
    "\n",
    "def manhattan_distance(x, y):\n",
    "    return np.linalg.norm((x-y), ord = 1)\n",
    "\n",
    "def accuracy(y_true, y_pred):\n",
    "    correct = 0\n",
    "    for i in range(len(y_true)):\n",
    "        if y_true[i] == y_pred[i]:\n",
    "            correct += 1\n",
    "            \n",
    "    return correct/len(y_true)\n",
    "        \n",
    "\n",
    "def precision(y_true, y_pred):\n",
    "    tp = 0\n",
    "    fp = 0\n",
    "    for i in range(len(y_true)):\n",
    "        if y_true[i] == 1 and y_pred[i] == 1:\n",
    "            tp += 1\n",
    "            \n",
    "    return tp/(fp+tp)\n",
    "\n",
    "def recall(y_true, y_pred):\n",
    "    tp = 0\n",
    "    fn = 0\n",
    "    for i in range(len(y_true)):\n",
    "        if y_true[i] == 1 and y_pred[i] == 1:\n",
    "            tp += 1\n",
    "        if y_true[i] == 1 and y_pred[i] == 0:\n",
    "            fn += 1\n",
    "    \n",
    "    return tp/(fn+tp)\n",
    "    \n",
    "def f1_score(y_true, y_pred):\n",
    "    return 2*((precision(y_true, y_pred)*recall(y_true, y_pred))/(precision(y_true, y_pred)+recall(y_true, y_pred)))\n",
    "\n",
    "\n",
    "class knn:\n",
    "    \n",
    "    def __init__(self):\n",
    "        pass\n",
    "    \n",
    "    def fit(self, training_features, training_labels, k, distance_f, **kwargs):\n",
    "        \n",
    "        self.training_features = training_features\n",
    "        self.training_labels = training_labels\n",
    "        self.n_neighbors = k\n",
    "        self.distance_f = distance_f\n",
    "        \n",
    "    def predict(self, test_features):\n",
    "        y_pred = np.zeros(len(test_features))\n",
    "            \n",
    "        for i in range(len(test_features)):\n",
    "            distances = []\n",
    "            if self.distance_f == \"euclid\":\n",
    "                for j,v in enumerate(self.training_features):\n",
    "                    distances.append([euclidean_distance(test_features[i], v), self.training_labels[j]])\n",
    "            \n",
    "            if self.distance_f == \"manhattan\":\n",
    "                for j,v in enumerate(self.training_features):\n",
    "                    distances.append([manhattan_distance(test_features[i], v), self.training_labels[j]])\n",
    "                    \n",
    "            distances.sort()\n",
    "            nearest = distances[0:self.n_neighbors]\n",
    "            avg = 0\n",
    "            for k in range(len(nearest)):\n",
    "                avg += nearest[k][1]\n",
    "            if (avg/len(nearest)) >= .5:\n",
    "                y_pred[i] = 1\n",
    "            \n",
    "            else:\n",
    "                y_pred[i] = 0\n",
    "                \n",
    "        return y_pred\n",
    "    \n",
    "    \n",
    "def partition(X, y, test_size):\n",
    "\n",
    "    indices = np.random.permutation(X.shape[0])\n",
    "    \n",
    "    train_idx = indices[:int(np.round(test_size*len(X), decimals = 0))]\n",
    "    test_idx = indices[int(np.round(test_size*len(X), decimals = 0)):]\n",
    "    \n",
    "    X_train = X[train_idx, :]\n",
    "    y_train = y[train_idx]\n",
    "    X_test = X[test_idx, :]\n",
    "    y_test = y[test_idx]\n",
    "    \n",
    "    return X_train, X_test, y_train, y_test\n"
   ]
  },
  {
   "cell_type": "code",
   "execution_count": 2,
   "metadata": {},
   "outputs": [
    {
     "name": "stdout",
     "output_type": "stream",
     "text": [
      "Hi\n"
     ]
    }
   ],
   "source": [
    "print(\"Hi\")"
   ]
  },
  {
   "cell_type": "code",
   "execution_count": null,
   "metadata": {
    "collapsed": true
   },
   "outputs": [],
   "source": []
  }
 ],
 "metadata": {
  "kernelspec": {
   "display_name": "Python 3",
   "language": "python",
   "name": "python3"
  },
  "language_info": {
   "codemirror_mode": {
    "name": "ipython",
    "version": 3
   },
   "file_extension": ".py",
   "mimetype": "text/x-python",
   "name": "python",
   "nbconvert_exporter": "python",
   "pygments_lexer": "ipython3",
   "version": "3.7.2"
  }
 },
 "nbformat": 4,
 "nbformat_minor": 2
}
